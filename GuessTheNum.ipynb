{
  "nbformat": 4,
  "nbformat_minor": 0,
  "metadata": {
    "colab": {
      "provenance": [],
      "collapsed_sections": [],
      "authorship_tag": "ABX9TyMZNeTpH48qDCbal7MsgPH3"
    },
    "kernelspec": {
      "name": "python3",
      "display_name": "Python 3"
    },
    "language_info": {
      "name": "python"
    }
  },
  "cells": [
    {
      "cell_type": "code",
      "execution_count": 5,
      "metadata": {
        "id": "Uk4OHFOjtPSN"
      },
      "outputs": [],
      "source": [
        "import random as rn"
      ]
    },
    {
      "cell_type": "code",
      "source": [
        "def you_guess_the_num(x):\n",
        "  rand_num = rn.randint(1,x) # returns a random int b/w 1 and x-1\n",
        "  # we need to guess in the terminal the number and the comp tells us if we are near or further away\n",
        "  guess = 0 # as the no. we would genrate is b/w 1 to x, we initally just assume our guess is 0\n",
        "  #we run the clues until we guess the correct num\n",
        "  while guess!=rand_num :\n",
        "    guess = int(input(f\"Guess a number between 1 and {x} \"))\n",
        "    if guess < rand_num:\n",
        "      print(\"The number is too low, Guess again!\")\n",
        "    elif guess> rand_num : \n",
        "      print(\"Aha, you are way too ahead on the number line!, Try again!\")\n",
        "  print(f'WOHO, you did it!. The number is (as you guessed it) is  {rand_num}!!!')\n"
      ],
      "metadata": {
        "id": "o8zW6xwYuHJY"
      },
      "execution_count": 25,
      "outputs": []
    },
    {
      "cell_type": "code",
      "source": [
        "you_guess_the_num(20)"
      ],
      "metadata": {
        "colab": {
          "base_uri": "https://localhost:8080/"
        },
        "id": "f-1-Z4fMxRWE",
        "outputId": "faaceb1d-e523-489a-f8fe-70e126cbf42e"
      },
      "execution_count": 27,
      "outputs": [
        {
          "output_type": "stream",
          "name": "stdout",
          "text": [
            "Guess a number between 1 and 20 10\n",
            "The number is too low, Guess again!\n",
            "Guess a number between 1 and 20 15\n",
            "The number is too low, Guess again!\n",
            "Guess a number between 1 and 20 18\n",
            "Aha, you are way too ahead on the number line!, Try again!\n",
            "Guess a number between 1 and 20 17\n",
            "WOHO, you did it!. The number is (as you guessed it) is  17!!!\n"
          ]
        }
      ]
    },
    {
      "cell_type": "code",
      "source": [
        "def com_guess_the_num(x):\n",
        "  print(f\"Think of a random number between 1 to {x}\")\n",
        "  # since a comp has to work on a very wide range of numbers and hece we set the low and high to linit the numbers b/w the required range\n",
        "  low = 1\n",
        "  high = x\n",
        "  clue = ''\n",
        "  while clue!='c':\n",
        "    if low!=high:\n",
        "      guess = rn.randint(low,high)\n",
        "    else:\n",
        "      guess = low #could also be high as in this case low = high\n",
        "    clue = input(f\"If {guess} \\n 1. Too High: press'h'\\n 2. Too Low: press'l' 3. \\n If correct: press'c' \\n\").lower()\n",
        "    if clue == 'h':\n",
        "      high = guess-1\n",
        "    elif clue == 'l':\n",
        "      low = guess+1\n",
        "  print(f'Yay! You guess it right!!. The number was {guess}')"
      ],
      "metadata": {
        "id": "WQiSJZRyxwcr"
      },
      "execution_count": 23,
      "outputs": []
    },
    {
      "cell_type": "code",
      "source": [
        "com_guess_the_num(30)"
      ],
      "metadata": {
        "colab": {
          "base_uri": "https://localhost:8080/"
        },
        "id": "nN_ZjF3L2ew_",
        "outputId": "5d231397-e4f0-43c9-d381-4f0a2a6a7fe4"
      },
      "execution_count": 24,
      "outputs": [
        {
          "output_type": "stream",
          "name": "stdout",
          "text": [
            "Think of a random number between 1 to 29\n",
            "If 14 \n",
            " 1. Too High: press'h'\n",
            " 2. Too Low: press'l' 3. \n",
            " If correct: press'c' \n",
            "l\n",
            "If 16 \n",
            " 1. Too High: press'h'\n",
            " 2. Too Low: press'l' 3. \n",
            " If correct: press'c' \n",
            "l\n",
            "If 30 \n",
            " 1. Too High: press'h'\n",
            " 2. Too Low: press'l' 3. \n",
            " If correct: press'c' \n",
            "h\n",
            "If 18 \n",
            " 1. Too High: press'h'\n",
            " 2. Too Low: press'l' 3. \n",
            " If correct: press'c' \n",
            "l\n",
            "If 23 \n",
            " 1. Too High: press'h'\n",
            " 2. Too Low: press'l' 3. \n",
            " If correct: press'c' \n",
            "c\n",
            "Yay! You guess it right!!. The number was 23\n"
          ]
        }
      ]
    }
  ]
}